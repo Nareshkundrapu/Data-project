{
 "cells": [
  {
   "cell_type": "code",
   "execution_count": 9,
   "metadata": {
    "collapsed": false
   },
   "outputs": [
    {
     "name": "stdout",
     "output_type": "stream",
     "text": [
      "['1994', '1', '1', '6', '8096']\n",
      "['1994', '1', '2', '7', '7772']\n",
      "['1994', '1', '3', '1', '10142']\n",
      "['1994', '1', '4', '2', '11248']\n",
      "['1994', '1', '5', '3', '11053']\n",
      "['1994', '1', '6', '4', '11406']\n",
      "['1994', '1', '7', '5', '11251']\n",
      "['1994', '1', '8', '6', '8653']\n",
      "['1994', '1', '9', '7', '7910']\n",
      "['1994', '1', '10', '1', '10498']\n"
     ]
    }
   ],
   "source": [
    "fl = open(\"US_births_1994-2003_CDC_NCHS.csv\", \"r\")\n",
    "data = fl.read()\n",
    "dat = data.split(\"\\n\")\n",
    "xdat = dat[1:]\n",
    "for rows in xdat[0:10]:\n",
    "    print(rows.split(\",\"))\n",
    "\n",
    "    \n",
    "    \n",
    "    \n"
   ]
  },
  {
   "cell_type": "code",
   "execution_count": 39,
   "metadata": {
    "collapsed": false
   },
   "outputs": [
    {
     "name": "stdout",
     "output_type": "stream",
     "text": [
      "[[1994, 1, 1, 6, 8096], [1994, 1, 2, 7, 7772], [1994, 1, 3, 1, 10142], [1994, 1, 4, 2, 11248], [1994, 1, 5, 3, 11053], [1994, 1, 6, 4, 11406], [1994, 1, 7, 5, 11251], [1994, 1, 8, 6, 8653], [1994, 1, 9, 7, 7910], [1994, 1, 10, 1, 10498]]\n"
     ]
    }
   ],
   "source": [
    "def read_csv(fname):\n",
    "    fdata = open(fname, \"r\")\n",
    "    spltdat  = fdata.read().split(\"\\n\")[1:]\n",
    "    string_list = spltdat\n",
    "    final_list = []\n",
    "    \n",
    "    for llst in string_list:\n",
    "        string_fields = llst.split(\",\")\n",
    "        int_fields = []\n",
    "        for lstdat in string_fields:\n",
    "            int_fields.append(int(lstdat))\n",
    "        final_list.append(int_fields)\n",
    "    return final_list\n",
    "\n",
    "cdc_result = read_csv(\"US_births_1994-2003_CDC_NCHS.csv\")\n",
    "\n",
    "print(cdc_result[0:10])\n",
    "        \n",
    "            \n",
    "            \n",
    "    "
   ]
  },
  {
   "cell_type": "code",
   "execution_count": 3,
   "metadata": {
    "collapsed": false
   },
   "outputs": [
    {
     "name": "stdout",
     "output_type": "stream",
     "text": [
      "{1: 3232517, 2: 3018140, 3: 3322069, 4: 3185314, 5: 3350907, 6: 3296530, 7: 3498783, 8: 3525858, 9: 3439698, 10: 3378814, 11: 3171647, 12: 3301860}\n"
     ]
    }
   ],
   "source": [
    "def read_csv(fname):\n",
    "    fdata = open(fname, \"r\")\n",
    "    spltdat  = fdata.read().split(\"\\n\")[1:]\n",
    "    string_list = spltdat\n",
    "    final_list = []\n",
    "    \n",
    "    for llst in string_list:\n",
    "        string_fields = llst.split(\",\")\n",
    "        int_fields = []\n",
    "        for lstdat in string_fields:\n",
    "            int_fields.append(int(lstdat))\n",
    "        final_list.append(int_fields)\n",
    "    return final_list\n",
    "\n",
    "cdc_result = read_csv(\"US_births_1994-2003_CDC_NCHS.csv\")\n",
    "\n",
    "def month_births(lst):\n",
    "    births_per_month = {}\n",
    "    for dat in lst:\n",
    "        month = dat[1]\n",
    "        births = dat[4]\n",
    "        if births_per_month.get(month, False):\n",
    "            births_per_month[month] = births_per_month[month] + births\n",
    "        else:\n",
    "            births_per_month[month] = births\n",
    "    return births_per_month\n",
    "cdc_month_births = month_births(cdc_result)\n",
    "print(cdc_month_births)\n",
    "        "
   ]
  },
  {
   "cell_type": "code",
   "execution_count": 4,
   "metadata": {
    "collapsed": false
   },
   "outputs": [
    {
     "name": "stdout",
     "output_type": "stream",
     "text": [
      "{1: 5789166, 2: 6446196, 3: 6322855, 4: 6288429, 5: 6233657, 6: 4562111, 7: 4079723}\n"
     ]
    }
   ],
   "source": [
    "def dow_births(flst):\n",
    "    retdict = {}\n",
    "    for xdat in flst:\n",
    "        day_of_week = xdat[3]\n",
    "        birth = xdat[4]\n",
    "        \n",
    "        if retdict.get(day_of_week, False):\n",
    "            retdict[day_of_week] = retdict[day_of_week] + birth\n",
    "        else:\n",
    "            retdict[day_of_week] = birth\n",
    "    return retdict\n",
    "cdc_day_births = dow_births(cdc_result)\n",
    "print(cdc_day_births)\n",
    "    "
   ]
  },
  {
   "cell_type": "code",
   "execution_count": 8,
   "metadata": {
    "collapsed": false
   },
   "outputs": [
    {
     "name": "stdout",
     "output_type": "stream",
     "text": [
      "{2000: 4058814, 2001: 4025933, 2002: 4021726, 2003: 4089950, 1994: 3952767, 1995: 3899589, 1996: 3891494, 1997: 3880894, 1998: 3941553, 1999: 3959417}\n",
      "{1: 3232517, 2: 3018140, 3: 3322069, 4: 3185314, 5: 3350907, 6: 3296530, 7: 3498783, 8: 3525858, 9: 3439698, 10: 3378814, 11: 3171647, 12: 3301860}\n",
      "{1: 1276557, 2: 1288739, 3: 1304499, 4: 1288154, 5: 1299953, 6: 1304474, 7: 1310459, 8: 1312297, 9: 1303292, 10: 1320764, 11: 1314361, 12: 1318437, 13: 1277684, 14: 1320153, 15: 1319171, 16: 1315192, 17: 1324953, 18: 1326855, 19: 1318727, 20: 1324821, 21: 1322897, 22: 1317381, 23: 1293290, 24: 1288083, 25: 1272116, 26: 1284796, 27: 1294395, 28: 1307685, 29: 1223161, 30: 1202095, 31: 746696}\n",
      "{1: 5789166, 2: 6446196, 3: 6322855, 4: 6288429, 5: 6233657, 6: 4562111, 7: 4079723}\n"
     ]
    }
   ],
   "source": [
    "def read_csv(fname):\n",
    "    fdata = open(fname, \"r\")\n",
    "    spltdat  = fdata.read().split(\"\\n\")[1:]\n",
    "    string_list = spltdat\n",
    "    final_list = []\n",
    "    \n",
    "    for llst in string_list:\n",
    "        string_fields = llst.split(\",\")\n",
    "        int_fields = []\n",
    "        for lstdat in string_fields:\n",
    "            int_fields.append(int(lstdat))\n",
    "        final_list.append(int_fields)\n",
    "    return final_list\n",
    "\n",
    "cdc_result = read_csv(\"US_births_1994-2003_CDC_NCHS.csv\")\n",
    "\n",
    "def calc_counts(lolst,col):\n",
    "    \n",
    "    dicctuniquecol = {}\n",
    "    for xdatt in lolst:\n",
    "        data_col = xdatt[col]\n",
    "        births = xdatt[4]\n",
    "        if dicctuniquecol.get(data_col, False):\n",
    "            dicctuniquecol[data_col] = dicctuniquecol[data_col] + births\n",
    "        else:\n",
    "            dicctuniquecol[data_col] = births\n",
    "    return dicctuniquecol\n",
    "\n",
    "year_births=0\n",
    "month_births=1\n",
    "dom_births = 2\n",
    "dow_births = 3\n",
    "cdc_year_births = calc_counts(cdc_result,year_births)\n",
    "cdc_month_births = calc_counts(cdc_result,month_births)\n",
    "cdc_dom_births = calc_counts(cdc_result,dom_births)\n",
    "cdc_dow_births = calc_counts(cdc_result,dow_births)\n",
    "print(cdc_year_births)\n",
    "print(cdc_month_births)\n",
    "print(cdc_dom_births)\n",
    "print(cdc_dow_births)\n",
    "\n",
    "\n",
    "        \n",
    "        \n",
    "        \n",
    "    "
   ]
  },
  {
   "cell_type": "code",
   "execution_count": null,
   "metadata": {
    "collapsed": true
   },
   "outputs": [],
   "source": []
  }
 ],
 "metadata": {
  "anaconda-cloud": {},
  "kernelspec": {
   "display_name": "Python 3",
   "language": "python",
   "name": "python3"
  },
  "language_info": {
   "codemirror_mode": {
    "name": "ipython",
    "version": 3
   },
   "file_extension": ".py",
   "mimetype": "text/x-python",
   "name": "python",
   "nbconvert_exporter": "python",
   "pygments_lexer": "ipython3",
   "version": "3.4.3"
  }
 },
 "nbformat": 4,
 "nbformat_minor": 1
}
