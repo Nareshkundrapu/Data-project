{
 "cells": [
  {
   "cell_type": "code",
   "execution_count": 1,
   "metadata": {
    "collapsed": false
   },
   "outputs": [
    {
     "data": {
      "text/plain": [
       "{'2012': 33563, '2013': 33636, '2014': 33599}"
      ]
     },
     "execution_count": 1,
     "metadata": {},
     "output_type": "execute_result"
    }
   ],
   "source": [
    "import csv\n",
    "fll = open(\"guns.csv\", \"r\")\n",
    "data = list(csv.reader(fll))\n",
    "data[0:5]\n",
    "header = data[0]\n",
    "data = data[1:]\n",
    "data[0:5]\n",
    "\n",
    "years = [xrow[1] for xrow in data]\n",
    "year_counts = {}\n",
    "for yr in years:\n",
    "    if year_counts.get(yr,False):\n",
    "        year_counts[yr] = year_counts[yr] + 1\n",
    "    else:\n",
    "        year_counts[yr] = 1\n",
    "year_counts\n"
   ]
  },
  {
   "cell_type": "code",
   "execution_count": 2,
   "metadata": {
    "collapsed": false
   },
   "outputs": [
    {
     "ename": "SyntaxError",
     "evalue": "unexpected EOF while parsing (<ipython-input-2-15f375740094>, line 14)",
     "output_type": "error",
     "traceback": [
      "\u001b[1;36m  File \u001b[1;32m\"<ipython-input-2-15f375740094>\"\u001b[1;36m, line \u001b[1;32m14\u001b[0m\n\u001b[1;33m    else:\u001b[0m\n\u001b[1;37m         ^\u001b[0m\n\u001b[1;31mSyntaxError\u001b[0m\u001b[1;31m:\u001b[0m unexpected EOF while parsing\n"
     ]
    }
   ],
   "source": [
    "import datetime\n",
    "year = [int(row[1]) for row in data ]\n",
    "month = [ int(row[2]) for row in data ]\n",
    "dates = []\n",
    "for idx,xdate in enumerate(year):\n",
    "    xdate = datetime.datetime(year=xdate, month=month[idx], day=1)\n",
    "    dates.append(xdate)\n",
    "print(dates[0:5])\n",
    "\n",
    "date_counts = {}\n",
    "for xdatt in dates:\n",
    "    if xdatt in date_counts:\n",
    "        date_counts[xdatt]=date_counts[xdatt]+1\n",
    "    else:"
   ]
  },
  {
   "cell_type": "code",
   "execution_count": 3,
   "metadata": {
    "collapsed": false
   },
   "outputs": [
    {
     "data": {
      "text/plain": [
       "[['Id',\n",
       "  'Year',\n",
       "  'Id',\n",
       "  'Sex',\n",
       "  'Id',\n",
       "  'Hispanic Origin',\n",
       "  'Id',\n",
       "  'Id2',\n",
       "  'Geography',\n",
       "  'Total',\n",
       "  'Race Alone - White',\n",
       "  'Race Alone - Hispanic',\n",
       "  'Race Alone - Black or African American',\n",
       "  'Race Alone - American Indian and Alaska Native',\n",
       "  'Race Alone - Asian',\n",
       "  'Race Alone - Native Hawaiian and Other Pacific Islander',\n",
       "  'Two or More Races'],\n",
       " ['cen42010',\n",
       "  'April 1, 2010 Census',\n",
       "  'totsex',\n",
       "  'Both Sexes',\n",
       "  'tothisp',\n",
       "  'Total',\n",
       "  '0100000US',\n",
       "  '',\n",
       "  'United States',\n",
       "  '308745538',\n",
       "  '197318956',\n",
       "  '44618105',\n",
       "  '40250635',\n",
       "  '3739506',\n",
       "  '15159516',\n",
       "  '674625',\n",
       "  '6984195']]"
      ]
     },
     "execution_count": 3,
     "metadata": {},
     "output_type": "execute_result"
    }
   ],
   "source": [
    "import csv\n",
    "opfl = open(\"census.csv\", \"r\")\n",
    "census = list(csv.reader(opfl))\n",
    "census"
   ]
  },
  {
   "cell_type": "code",
   "execution_count": 3,
   "metadata": {
    "collapsed": false
   },
   "outputs": [
    {
     "name": "stdout",
     "output_type": "stream",
     "text": [
      "{'F': 14449, 'M': 86349}\n",
      "{'Asian/Pacific Islander': 1326, 'Native American/Native Alaskan': 917, 'White': 66237, 'Hispanic': 9022, 'Black': 23296}\n"
     ]
    }
   ],
   "source": [
    "\n",
    "import csv\n",
    "fll = open(\"guns.csv\", \"r\")\n",
    "data = list(csv.reader(fll))\n",
    "data[0:5]\n",
    "header = data[0]\n",
    "data = data[1:]\n",
    "\n",
    "sexes = [xrow[5] for xrow in data]\n",
    "sex_counts = {}\n",
    "for sx in sexes:\n",
    "    if sx not in sex_counts:\n",
    "        sex_counts[sx] = 1\n",
    "    else:\n",
    "        sex_counts[sx] = sex_counts[sx] + 1\n",
    "print(sex_counts)\n",
    "\n",
    "races = [xrow[7] for xrow in data]\n",
    "race_counts = {}\n",
    "for race in races:\n",
    "    if race not in race_counts:\n",
    "        race_counts[race] = 1\n",
    "    else:\n",
    "        race_counts[race] = race_counts[race] + 1\n",
    "print(race_counts)\n",
    "\n",
    "\n"
   ]
  },
  {
   "cell_type": "markdown",
   "metadata": {
    "collapsed": true
   },
   "source": [
    "# I have learned how to iterate through the lists and each individual count based on specific > \n",
    "## criteria which would help to do analysis \n",
    "happy\n",
    "\n",
    "\n"
   ]
  },
  {
   "cell_type": "code",
   "execution_count": 10,
   "metadata": {
    "collapsed": false
   },
   "outputs": [
    {
     "data": {
      "text/plain": [
       "[['Id',\n",
       "  'Year',\n",
       "  'Id',\n",
       "  'Sex',\n",
       "  'Id',\n",
       "  'Hispanic Origin',\n",
       "  'Id',\n",
       "  'Id2',\n",
       "  'Geography',\n",
       "  'Total',\n",
       "  'Race Alone - White',\n",
       "  'Race Alone - Hispanic',\n",
       "  'Race Alone - Black or African American',\n",
       "  'Race Alone - American Indian and Alaska Native',\n",
       "  'Race Alone - Asian',\n",
       "  'Race Alone - Native Hawaiian and Other Pacific Islander',\n",
       "  'Two or More Races'],\n",
       " ['cen42010',\n",
       "  'April 1, 2010 Census',\n",
       "  'totsex',\n",
       "  'Both Sexes',\n",
       "  'tothisp',\n",
       "  'Total',\n",
       "  '0100000US',\n",
       "  '',\n",
       "  'United States',\n",
       "  '308745538',\n",
       "  '197318956',\n",
       "  '44618105',\n",
       "  '40250635',\n",
       "  '3739506',\n",
       "  '15159516',\n",
       "  '674625',\n",
       "  '6984195']]"
      ]
     },
     "execution_count": 10,
     "metadata": {},
     "output_type": "execute_result"
    }
   ],
   "source": [
    "import csv\n",
    "\n",
    "fle = open(\"census.csv\", \"r\" )\n",
    "census = list(csv.reader(fle))\n",
    "census\n",
    "\n"
   ]
  },
  {
   "cell_type": "code",
   "execution_count": 26,
   "metadata": {
    "collapsed": false
   },
   "outputs": [
    {
     "name": "stdout",
     "output_type": "stream",
     "text": [
      "{'Asian/Pacific Islander': 8.374309664161762, 'Native American/Native Alaskan': 24.521955573811088, 'White': 33.56849303419181, 'Hispanic': 20.220491210910907, 'Black': 57.8773477735196}\n"
     ]
    }
   ],
   "source": [
    "mapping = {\"Asian/Pacific Islander\" : 15159516 + 674625, \"Black\" :\n",
    "           40250635, \"Native American/Native Alaskan\" : 3739506 , \"Hispanic\" : 44618105 ,\n",
    "           \"White\" : 197318956  }\n",
    "race_per_hundredk = {}\n",
    "\n",
    "for idx,xkey in race_counts.items():\n",
    "    race_per_hundredk[idx] = (xkey/mapping[idx])*100000\n",
    "print(race_per_hundredk)\n",
    "    \n",
    "    \n",
    "    \n",
    "\n",
    "\n",
    "\n"
   ]
  },
  {
   "cell_type": "code",
   "execution_count": 32,
   "metadata": {
    "collapsed": false
   },
   "outputs": [
    {
     "name": "stdout",
     "output_type": "stream",
     "text": [
      "{'Asian/Pacific Islander': 559, 'Native American/Native Alaskan': 326, 'White': 9147, 'Hispanic': 5634, 'Black': 19510}\n"
     ]
    }
   ],
   "source": [
    "intents = [xrow[3] for xrow in data[1:] ]\n",
    "races = [xrow[7] for xrow in data[1:] ]\n",
    "homicide_race_counts = {}\n",
    "for i, xkeys in enumerate(races):\n",
    "    if intents[i] == \"Homicide\" :\n",
    "        if xkeys in homicide_race_counts:\n",
    "            homicide_race_counts[xkeys] = homicide_race_counts[xkeys] + 1\n",
    "        else:\n",
    "            homicide_race_counts[xkeys] = 1\n",
    "    \n",
    "print(homicide_race_counts)\n",
    "\n",
    "\n"
   ]
  },
  {
   "cell_type": "markdown",
   "metadata": {},
   "source": [
    "# the data could be used to distinguish the social reasons that could have played a role as per the statistics .<br>\n"
   ]
  },
  {
   "cell_type": "code",
   "execution_count": null,
   "metadata": {
    "collapsed": true
   },
   "outputs": [],
   "source": []
  }
 ],
 "metadata": {
  "kernelspec": {
   "display_name": "Python 3",
   "language": "python",
   "name": "python3"
  },
  "language_info": {
   "codemirror_mode": {
    "name": "ipython",
    "version": 3
   },
   "file_extension": ".py",
   "mimetype": "text/x-python",
   "name": "python",
   "nbconvert_exporter": "python",
   "pygments_lexer": "ipython3",
   "version": "3.4.3"
  }
 },
 "nbformat": 4,
 "nbformat_minor": 0
}
